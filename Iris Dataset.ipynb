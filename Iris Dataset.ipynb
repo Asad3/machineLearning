{
 "cells": [
  {
   "cell_type": "code",
   "execution_count": 61,
   "metadata": {},
   "outputs": [
    {
     "name": "stdout",
     "output_type": "stream",
     "text": [
      "['2']\n",
      "Real Value is ['2']\n"
     ]
    },
    {
     "name": "stderr",
     "output_type": "stream",
     "text": [
      "C:\\Users\\asad\\Anaconda3\\lib\\site-packages\\sklearn\\utils\\validation.py:578: DataConversionWarning: A column-vector y was passed when a 1d array was expected. Please change the shape of y to (n_samples, ), for example using ravel().\n",
      "  y = column_or_1d(y, warn=True)\n"
     ]
    }
   ],
   "source": [
    "import numpy as np\n",
    "from numpy import genfromtxt\n",
    "from sklearn import linear_model\n",
    "\n",
    "file = genfromtxt(\"Iris.csv\", delimiter=',', dtype=\"str\")\n",
    "\n",
    "dic={}\n",
    "count=0\n",
    "for val in file:\n",
    "    if val[4] not in dic:\n",
    "        dic[val[4]] = count\n",
    "        count = count+1\n",
    "\n",
    "for row in file:\n",
    "    row[4] = dic[row[4]]\n",
    "\n",
    "trainingSet = file[:130]\n",
    "testingSet = file[130:]\n",
    "\n",
    "trainingX = trainingSet[:,[0,1,2,3]]\n",
    "trainingX = trainingX.astype(float)\n",
    "trainingY = trainingSet[:,[4]]\n",
    "\n",
    "testingX = testingSet[:,[0,1,2,3]]\n",
    "testingX = testingX.astype(float)\n",
    "testingY = testingSet[:,[4]]\n",
    "\n",
    "lr = linear_model.LogisticRegression()\n",
    "lr.fit(trainingX, trainingY)\n",
    "\n",
    "print(lr.predict([testingX[18]]))\n",
    "print(\"Real Value is \" + str(testingY[18]))"
   ]
  },
  {
   "cell_type": "code",
   "execution_count": null,
   "metadata": {},
   "outputs": [],
   "source": []
  }
 ],
 "metadata": {
  "kernelspec": {
   "display_name": "Python 3",
   "language": "python",
   "name": "python3"
  },
  "language_info": {
   "codemirror_mode": {
    "name": "ipython",
    "version": 3
   },
   "file_extension": ".py",
   "mimetype": "text/x-python",
   "name": "python",
   "nbconvert_exporter": "python",
   "pygments_lexer": "ipython3",
   "version": "3.6.5"
  }
 },
 "nbformat": 4,
 "nbformat_minor": 2
}
